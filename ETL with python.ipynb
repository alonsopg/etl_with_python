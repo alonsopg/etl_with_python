{
 "cells": [
  {
   "cell_type": "markdown",
   "metadata": {},
   "source": [
    "# Extracting transforming and loading with Python"
   ]
  },
  {
   "cell_type": "markdown",
   "metadata": {},
   "source": [
    "For this example, I will show how to perform a ETL pipeline. Firstly, Let's assume that you extracted some opinions from the web, and you have them stored in a folder (As for the work done in my thesis)."
   ]
  },
  {
   "cell_type": "code",
   "execution_count": 10,
   "metadata": {
    "collapsed": false
   },
   "outputs": [],
   "source": [
    "from os import listdir\n",
    "from os.path import isfile, join\n",
    "mypath = '/Users/user/jupyter_notebooks/python_ETL/OpinionsTAG_txt_utf-8/'\n",
    "onlyfiles = [f for f in listdir(mypath) if isfile(join(mypath, f))]\n",
    "print(onlyfiles)"
   ]
  },
  {
   "cell_type": "code",
   "execution_count": 11,
   "metadata": {
    "collapsed": false
   },
   "outputs": [],
   "source": [
    "# Open the file for reading.\n",
    "with open('/Users/user/jupyter_notebooks/python_ETL/OpinionsTAG_txt_utf-8/AEG_Electrolux_L_75280_FL__Opinion_2093157.html.txt', 'r') as infile:\n",
    "    data = infile.readlines()  # Read the contents of the file into memory.\n",
    "\n",
    "# Return a list of the lines, breaking at line boundaries.\n",
    "#print(data)"
   ]
  },
  {
   "cell_type": "code",
   "execution_count": 6,
   "metadata": {
    "collapsed": false,
    "scrolled": true
   },
   "outputs": [
    {
     "name": "stdout",
     "output_type": "stream",
     "text": [
      "\n",
      "Silencio y facilidad. Con estas dos palabras se puede definir este aparato. \n",
      "Además de la multitud de programas que posee para diferentes tejidos (8 programas de lavado, incluyendo seda, lavado a mano y ecológico), su display te informa del tiempo aproximado de cada ciclo de lavado.\n",
      "\n",
      "\n",
      "Hasta el momento no hemos tenido ningún sobresalto. La ropa de nuestro bebé sale impecable y sin encoger. Tiene diferentes revoluciones para el centrifugado, además de programas especiales para ropa sensible y planchado fácil.\n",
      "Tiene además una función especial de inicio diferido para que la lavadora termine el ciclo en tiempo cercano al que vayas a llegar a casa y poder tender la ropa.\n",
      "\n",
      "\n",
      "El silencio es uno de sus puntos fuertes, incluso cuando está en la fase de centrifugado.\n",
      "La única desventaja que por ahora hemos encontrado es la señal acústica que informa del fin del ciclo de lavado. Está constantemente lanzando un \";piii\"; hasta que vas a ponerla en off.\n",
      "\n",
      "\n",
      "Estéticamente no desagrada a la vista y encaja bien si es necesario ponerla en un lugar visible de la cocina.\n",
      "Tiene una carga máxima de 6 kg. Su máxima velocidad de centrifugado es de 1.000 rpm y el consumo máximo es de 63 litros de agua.\n",
      "\n"
     ]
    }
   ],
   "source": [
    "# Open the file for reading.\n",
    "# the file is encoded with iso-8859-1\n",
    "import codecs\n",
    "with codecs.open('/Users/user/jupyter_notebooks/python_ETL/OpinionsTXT/AEG_Electrolux_60840_Lavamat__Opinion_1506705.html.txt', 'r', encoding='iso-8859-1') as infile:\n",
    "    data = infile.read()\n",
    "\n",
    "print(data)"
   ]
  },
  {
   "cell_type": "code",
   "execution_count": 7,
   "metadata": {
    "collapsed": false
   },
   "outputs": [],
   "source": [
    "#This functions convert a directory full of documents to a single .csv file\n",
    "import glob, os\n",
    "import sys\n",
    "sys.stdout=open(\"/Users/user/jupyter_notebooks/python_ETL/new_corpus.csv\",\"w\")\n",
    "\n",
    "directory_path = '/Users/user/jupyter_notebooks/python_ETL/OpinionsTXT/'\n",
    "def retrive(directory_path):\n",
    "    for filename in sorted(glob.glob(os.path.join(directory_path, '*.txt'))):\n",
    "        with codecs.open(filename, 'r', encoding='iso-8859-1') as f:\n",
    "            important_stuff = f.read().splitlines()\n",
    "            oneline = [''.join(important_stuff)]\n",
    "            print( filename.split('/')[-1] + '| ' +str(oneline).strip('[]\"'))\n",
    "\n",
    "\n",
    "print (retrive(directory_path))\n"
   ]
  },
  {
   "cell_type": "code",
   "execution_count": 9,
   "metadata": {
    "collapsed": false
   },
   "outputs": [
    {
     "data": {
      "text/html": [
       "<div>\n",
       "<table border=\"1\" class=\"dataframe\">\n",
       "  <thead>\n",
       "    <tr style=\"text-align: right;\">\n",
       "      <th></th>\n",
       "      <th>id</th>\n",
       "      <th>opinions</th>\n",
       "    </tr>\n",
       "  </thead>\n",
       "  <tbody>\n",
       "    <tr>\n",
       "      <th>0</th>\n",
       "      <td>AEG_Electrolux_60840_Lavamat__Opinion_1506705....</td>\n",
       "      <td>'Silencio y facilidad. Con estas dos palabras...</td>\n",
       "    </tr>\n",
       "    <tr>\n",
       "      <th>1</th>\n",
       "      <td>AEG_Electrolux_62610_Lavamat__Opinion_2000923....</td>\n",
       "      <td>'Hola compis!No sabía como se ponía una lavad...</td>\n",
       "    </tr>\n",
       "    <tr>\n",
       "      <th>2</th>\n",
       "      <td>AEG_Electrolux_L14800VI__Opinion_2005396.html.txt</td>\n",
       "      <td>'Esta lavadora es de lo más práctica para aqu...</td>\n",
       "    </tr>\n",
       "    <tr>\n",
       "      <th>3</th>\n",
       "      <td>AEG_Electrolux_L6227FL__Opinion_2140710.html.txt</td>\n",
       "      <td>'Buenas tardes amigos y compañeros de ciao......</td>\n",
       "    </tr>\n",
       "    <tr>\n",
       "      <th>4</th>\n",
       "      <td>AEG_Electrolux_L62280FL__Opinion_2151025.html.txt</td>\n",
       "      <td>'Empecemos por una ventaja muy importante: la...</td>\n",
       "    </tr>\n",
       "  </tbody>\n",
       "</table>\n",
       "</div>"
      ],
      "text/plain": [
       "                                                  id  \\\n",
       "0  AEG_Electrolux_60840_Lavamat__Opinion_1506705....   \n",
       "1  AEG_Electrolux_62610_Lavamat__Opinion_2000923....   \n",
       "2  AEG_Electrolux_L14800VI__Opinion_2005396.html.txt   \n",
       "3   AEG_Electrolux_L6227FL__Opinion_2140710.html.txt   \n",
       "4  AEG_Electrolux_L62280FL__Opinion_2151025.html.txt   \n",
       "\n",
       "                                            opinions  \n",
       "0   'Silencio y facilidad. Con estas dos palabras...  \n",
       "1   'Hola compis!No sabía como se ponía una lavad...  \n",
       "2   'Esta lavadora es de lo más práctica para aqu...  \n",
       "3   'Buenas tardes amigos y compañeros de ciao......  \n",
       "4   'Empecemos por una ventaja muy importante: la...  "
      ]
     },
     "execution_count": 9,
     "metadata": {},
     "output_type": "execute_result"
    }
   ],
   "source": [
    "import pandas as pd\n",
    "df = pd.read_csv('/Users/user/jupyter_notebooks/python_ETL/new_corpus.csv', sep='|', names=['id', 'opinions'])\n",
    "df.head(5)"
   ]
  },
  {
   "cell_type": "code",
   "execution_count": null,
   "metadata": {
    "collapsed": false
   },
   "outputs": [],
   "source": []
  },
  {
   "cell_type": "code",
   "execution_count": null,
   "metadata": {
    "collapsed": true
   },
   "outputs": [],
   "source": []
  },
  {
   "cell_type": "code",
   "execution_count": null,
   "metadata": {
    "collapsed": true
   },
   "outputs": [],
   "source": []
  },
  {
   "cell_type": "code",
   "execution_count": null,
   "metadata": {
    "collapsed": true
   },
   "outputs": [],
   "source": []
  }
 ],
 "metadata": {
  "kernelspec": {
   "display_name": "Python 3",
   "language": "python",
   "name": "python3"
  },
  "language_info": {
   "codemirror_mode": {
    "name": "ipython",
    "version": 3
   },
   "file_extension": ".py",
   "mimetype": "text/x-python",
   "name": "python",
   "nbconvert_exporter": "python",
   "pygments_lexer": "ipython3",
   "version": "3.5.1"
  }
 },
 "nbformat": 4,
 "nbformat_minor": 0
}
